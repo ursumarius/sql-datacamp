{
 "cells": [
  {
   "cell_type": "markdown",
   "id": "51725f76-d4f7-4f11-9c0e-71d1c2953a32",
   "metadata": {},
   "source": [
    "# Data Manipulation in SQL\n",
    "\n",
    "Here you can access every table used in the course. To access each table, you will need to specify the `soccer` schema in your queries (e.g., `soccer.match` for the `match` table, and `soccer.league` for the `league` table).\n",
    "\n",
    "--- \n",
    "_Note: When using sample integrations such as those that contain course data, you have read-only access. You can run queries, but cannot make any changes such as adding, deleting, or modifying the data (e.g., creating tables, views, etc.)._"
   ]
  },
  {
   "cell_type": "markdown",
   "id": "0e0f5afb-9963-4282-b58a-f3218eab408b",
   "metadata": {},
   "source": [
    "## Take Notes\n",
    "\n",
    "Add notes about the concepts you've learned and SQL cells with queries you want to keep."
   ]
  },
  {
   "cell_type": "markdown",
   "id": "e1ee17d3",
   "metadata": {},
   "source": [
    "## **Raw data preview:**"
   ]
  },
  {
   "cell_type": "markdown",
   "id": "92f63d2e-ba01-4a22-aa47-53f78bfd7772",
   "metadata": {},
   "source": [
    "**Match table:**"
   ]
  },
  {
   "cell_type": "code",
   "execution_count": 11,
   "id": "c49c1586-2144-499c-a235-16cb61eedbc0",
   "metadata": {
    "chartConfig": {
     "bar": {
      "hasRoundedCorners": true,
      "stacked": false
     },
     "type": "bar",
     "version": "v1"
    },
    "customType": "sql",
    "dataFrameVariableName": "df",
    "executionCancelledAt": null,
    "executionTime": 1920,
    "initial": false,
    "integrationId": "c632441c-e1dc-4637-a56d-10b85efd89be",
    "lastExecutedAt": 1692123145132,
    "lastScheduledRunId": null,
    "lastSuccessfullyExecutedCode": "SELECT *\nFROM soccer.match\nLIMIT 5",
    "outputsMetadata": {
     "0": {
      "height": 209,
      "type": "dataFrame"
     }
    },
    "visualizeDataframe": false
   },
   "outputs": [
    {
     "@datacamp/metadata": {
      "executedQuery": "SELECT *\nFROM soccer.match\nLIMIT 5",
      "executedQueryParameters": []
     },
     "data": {
      "application/com.datacamp.data-table.v1+json": {
       "table": {
        "data": [
         {
          "away_goal": 1,
          "awayteam_id": 8635,
          "country_id": 1,
          "date": "2011-07-29T00:00:00.000Z",
          "home_goal": 2,
          "hometeam_id": 1773,
          "id": 757,
          "index": 0,
          "season": "2011/2012",
          "stage": 1
         },
         {
          "away_goal": 1,
          "awayteam_id": 9985,
          "country_id": 1,
          "date": "2011-07-30T00:00:00.000Z",
          "home_goal": 1,
          "hometeam_id": 9998,
          "id": 758,
          "index": 1,
          "season": "2011/2012",
          "stage": 1
         },
         {
          "away_goal": 1,
          "awayteam_id": 9993,
          "country_id": 1,
          "date": "2011-07-30T00:00:00.000Z",
          "home_goal": 3,
          "hometeam_id": 9987,
          "id": 759,
          "index": 2,
          "season": "2011/2012",
          "stage": 1
         },
         {
          "away_goal": 1,
          "awayteam_id": 9984,
          "country_id": 1,
          "date": "2011-07-30T00:00:00.000Z",
          "home_goal": 0,
          "hometeam_id": 9991,
          "id": 760,
          "index": 3,
          "season": "2011/2012",
          "stage": 1
         },
         {
          "away_goal": 0,
          "awayteam_id": 10000,
          "country_id": 1,
          "date": "2011-07-30T00:00:00.000Z",
          "home_goal": 0,
          "hometeam_id": 9994,
          "id": 761,
          "index": 4,
          "season": "2011/2012",
          "stage": 1
         }
        ],
        "schema": {
         "fields": [
          {
           "name": "index",
           "type": "integer"
          },
          {
           "name": "id",
           "type": "integer"
          },
          {
           "name": "country_id",
           "type": "integer"
          },
          {
           "name": "season",
           "type": "string"
          },
          {
           "name": "stage",
           "type": "integer"
          },
          {
           "name": "date",
           "type": "datetime",
           "tz": "UTC"
          },
          {
           "name": "hometeam_id",
           "type": "integer"
          },
          {
           "name": "awayteam_id",
           "type": "integer"
          },
          {
           "name": "home_goal",
           "type": "integer"
          },
          {
           "name": "away_goal",
           "type": "integer"
          }
         ],
         "pandas_version": "1.4.0",
         "primaryKey": [
          "index"
         ]
        }
       },
       "total_rows": 5,
       "truncation_type": null
      },
      "text/html": [
       "<div>\n",
       "<style scoped>\n",
       "    .dataframe tbody tr th:only-of-type {\n",
       "        vertical-align: middle;\n",
       "    }\n",
       "\n",
       "    .dataframe tbody tr th {\n",
       "        vertical-align: top;\n",
       "    }\n",
       "\n",
       "    .dataframe thead th {\n",
       "        text-align: right;\n",
       "    }\n",
       "</style>\n",
       "<table border=\"1\" class=\"dataframe\">\n",
       "  <thead>\n",
       "    <tr style=\"text-align: right;\">\n",
       "      <th></th>\n",
       "      <th>id</th>\n",
       "      <th>country_id</th>\n",
       "      <th>season</th>\n",
       "      <th>stage</th>\n",
       "      <th>date</th>\n",
       "      <th>hometeam_id</th>\n",
       "      <th>awayteam_id</th>\n",
       "      <th>home_goal</th>\n",
       "      <th>away_goal</th>\n",
       "    </tr>\n",
       "  </thead>\n",
       "  <tbody>\n",
       "    <tr>\n",
       "      <th>0</th>\n",
       "      <td>757</td>\n",
       "      <td>1</td>\n",
       "      <td>2011/2012</td>\n",
       "      <td>1</td>\n",
       "      <td>2011-07-29 00:00:00+00:00</td>\n",
       "      <td>1773</td>\n",
       "      <td>8635</td>\n",
       "      <td>2</td>\n",
       "      <td>1</td>\n",
       "    </tr>\n",
       "    <tr>\n",
       "      <th>1</th>\n",
       "      <td>758</td>\n",
       "      <td>1</td>\n",
       "      <td>2011/2012</td>\n",
       "      <td>1</td>\n",
       "      <td>2011-07-30 00:00:00+00:00</td>\n",
       "      <td>9998</td>\n",
       "      <td>9985</td>\n",
       "      <td>1</td>\n",
       "      <td>1</td>\n",
       "    </tr>\n",
       "    <tr>\n",
       "      <th>2</th>\n",
       "      <td>759</td>\n",
       "      <td>1</td>\n",
       "      <td>2011/2012</td>\n",
       "      <td>1</td>\n",
       "      <td>2011-07-30 00:00:00+00:00</td>\n",
       "      <td>9987</td>\n",
       "      <td>9993</td>\n",
       "      <td>3</td>\n",
       "      <td>1</td>\n",
       "    </tr>\n",
       "    <tr>\n",
       "      <th>3</th>\n",
       "      <td>760</td>\n",
       "      <td>1</td>\n",
       "      <td>2011/2012</td>\n",
       "      <td>1</td>\n",
       "      <td>2011-07-30 00:00:00+00:00</td>\n",
       "      <td>9991</td>\n",
       "      <td>9984</td>\n",
       "      <td>0</td>\n",
       "      <td>1</td>\n",
       "    </tr>\n",
       "    <tr>\n",
       "      <th>4</th>\n",
       "      <td>761</td>\n",
       "      <td>1</td>\n",
       "      <td>2011/2012</td>\n",
       "      <td>1</td>\n",
       "      <td>2011-07-30 00:00:00+00:00</td>\n",
       "      <td>9994</td>\n",
       "      <td>10000</td>\n",
       "      <td>0</td>\n",
       "      <td>0</td>\n",
       "    </tr>\n",
       "  </tbody>\n",
       "</table>\n",
       "</div>"
      ],
      "text/plain": [
       "    id  country_id     season  ...  awayteam_id home_goal  away_goal\n",
       "0  757           1  2011/2012  ...         8635         2          1\n",
       "1  758           1  2011/2012  ...         9985         1          1\n",
       "2  759           1  2011/2012  ...         9993         3          1\n",
       "3  760           1  2011/2012  ...         9984         0          1\n",
       "4  761           1  2011/2012  ...        10000         0          0\n",
       "\n",
       "[5 rows x 9 columns]"
      ]
     },
     "execution_count": 11,
     "metadata": {},
     "output_type": "execute_result"
    }
   ],
   "source": [
    "SELECT *\n",
    "FROM soccer.match\n",
    "LIMIT 5"
   ]
  },
  {
   "cell_type": "markdown",
   "id": "7bbea1e2-3e59-4fef-8937-e02fb38f5123",
   "metadata": {},
   "source": [
    "**League table:**"
   ]
  },
  {
   "cell_type": "code",
   "execution_count": 1,
   "id": "4fd236ce-7c85-4ca7-9bd0-516b11b28ef2",
   "metadata": {
    "customType": "sql",
    "dataFrameVariableName": "df2",
    "executionCancelledAt": null,
    "executionTime": 2184,
    "jupyter": {
     "outputs_hidden": false,
     "source_hidden": true
    },
    "lastExecutedAt": 1692122565504,
    "lastScheduledRunId": null,
    "lastSuccessfullyExecutedCode": "SELECT *\nFROM soccer.league\nLIMIT 5",
    "outputsMetadata": {
     "0": {
      "height": 194,
      "type": "dataFrame"
     }
    },
    "sqlCellMode": "dataFrame",
    "sqlSource": {
     "integrationId": "c632441c-e1dc-4637-a56d-10b85efd89be",
     "type": "integration"
    }
   },
   "outputs": [
    {
     "@datacamp/metadata": {
      "executedQuery": "SELECT *\nFROM soccer.league\nLIMIT 5",
      "executedQueryParameters": []
     },
     "data": {
      "application/com.datacamp.data-table.v1+json": {
       "table": {
        "data": [
         {
          "country_id": 1,
          "id": 1,
          "index": 0,
          "name": "Belgium Jupiler League"
         },
         {
          "country_id": 1729,
          "id": 1729,
          "index": 1,
          "name": "England Premier League"
         },
         {
          "country_id": 4769,
          "id": 4769,
          "index": 2,
          "name": "France Ligue 1"
         },
         {
          "country_id": 7809,
          "id": 7809,
          "index": 3,
          "name": "Germany 1. Bundesliga"
         },
         {
          "country_id": 10257,
          "id": 10257,
          "index": 4,
          "name": "Italy Serie A"
         }
        ],
        "schema": {
         "fields": [
          {
           "name": "index",
           "type": "integer"
          },
          {
           "name": "id",
           "type": "integer"
          },
          {
           "name": "country_id",
           "type": "integer"
          },
          {
           "name": "name",
           "type": "string"
          }
         ],
         "pandas_version": "1.4.0",
         "primaryKey": [
          "index"
         ]
        }
       },
       "total_rows": 5,
       "truncation_type": null
      },
      "text/html": [
       "<div>\n",
       "<style scoped>\n",
       "    .dataframe tbody tr th:only-of-type {\n",
       "        vertical-align: middle;\n",
       "    }\n",
       "\n",
       "    .dataframe tbody tr th {\n",
       "        vertical-align: top;\n",
       "    }\n",
       "\n",
       "    .dataframe thead th {\n",
       "        text-align: right;\n",
       "    }\n",
       "</style>\n",
       "<table border=\"1\" class=\"dataframe\">\n",
       "  <thead>\n",
       "    <tr style=\"text-align: right;\">\n",
       "      <th></th>\n",
       "      <th>id</th>\n",
       "      <th>country_id</th>\n",
       "      <th>name</th>\n",
       "    </tr>\n",
       "  </thead>\n",
       "  <tbody>\n",
       "    <tr>\n",
       "      <th>0</th>\n",
       "      <td>1</td>\n",
       "      <td>1</td>\n",
       "      <td>Belgium Jupiler League</td>\n",
       "    </tr>\n",
       "    <tr>\n",
       "      <th>1</th>\n",
       "      <td>1729</td>\n",
       "      <td>1729</td>\n",
       "      <td>England Premier League</td>\n",
       "    </tr>\n",
       "    <tr>\n",
       "      <th>2</th>\n",
       "      <td>4769</td>\n",
       "      <td>4769</td>\n",
       "      <td>France Ligue 1</td>\n",
       "    </tr>\n",
       "    <tr>\n",
       "      <th>3</th>\n",
       "      <td>7809</td>\n",
       "      <td>7809</td>\n",
       "      <td>Germany 1. Bundesliga</td>\n",
       "    </tr>\n",
       "    <tr>\n",
       "      <th>4</th>\n",
       "      <td>10257</td>\n",
       "      <td>10257</td>\n",
       "      <td>Italy Serie A</td>\n",
       "    </tr>\n",
       "  </tbody>\n",
       "</table>\n",
       "</div>"
      ],
      "text/plain": [
       "      id  country_id                    name\n",
       "0      1           1  Belgium Jupiler League\n",
       "1   1729        1729  England Premier League\n",
       "2   4769        4769          France Ligue 1\n",
       "3   7809        7809   Germany 1. Bundesliga\n",
       "4  10257       10257           Italy Serie A"
      ]
     },
     "execution_count": 1,
     "metadata": {},
     "output_type": "execute_result"
    }
   ],
   "source": [
    "SELECT *\n",
    "FROM soccer.league\n",
    "LIMIT 5"
   ]
  },
  {
   "cell_type": "markdown",
   "id": "263fc456-8a8e-4dfa-9c9b-1c4a4267ada9",
   "metadata": {},
   "source": [
    "**Team table:**"
   ]
  },
  {
   "cell_type": "code",
   "execution_count": 9,
   "id": "863f07f6-5545-4872-9bc9-c5f79c990fc8",
   "metadata": {
    "customType": "sql",
    "dataFrameVariableName": "df5",
    "executionCancelledAt": null,
    "executionTime": 1793,
    "jupyter": {
     "outputs_hidden": false,
     "source_hidden": true
    },
    "lastExecutedAt": 1692123118751,
    "lastScheduledRunId": null,
    "lastSuccessfullyExecutedCode": "SELECT *\nFROM soccer.team\nLIMIT 5;",
    "sqlCellMode": "dataFrame",
    "sqlSource": {
     "integrationId": "c632441c-e1dc-4637-a56d-10b85efd89be",
     "type": "integration"
    }
   },
   "outputs": [
    {
     "@datacamp/metadata": {
      "executedQuery": "SELECT *\nFROM soccer.team\nLIMIT 5;",
      "executedQueryParameters": []
     },
     "data": {
      "application/com.datacamp.data-table.v1+json": {
       "table": {
        "data": [
         {
          "id": 1,
          "index": 0,
          "team_api_id": 9987,
          "team_long_name": "KRC Genk",
          "team_short_name": "GEN"
         },
         {
          "id": 2,
          "index": 1,
          "team_api_id": 9993,
          "team_long_name": "Beerschot AC",
          "team_short_name": "BAC"
         },
         {
          "id": 3,
          "index": 2,
          "team_api_id": 10000,
          "team_long_name": "SV Zulte-Waregem",
          "team_short_name": "ZUL"
         },
         {
          "id": 4,
          "index": 3,
          "team_api_id": 9994,
          "team_long_name": "Sporting Lokeren",
          "team_short_name": "LOK"
         },
         {
          "id": 5,
          "index": 4,
          "team_api_id": 9984,
          "team_long_name": "KSV Cercle Brugge",
          "team_short_name": "CEB"
         }
        ],
        "schema": {
         "fields": [
          {
           "name": "index",
           "type": "integer"
          },
          {
           "name": "id",
           "type": "integer"
          },
          {
           "name": "team_api_id",
           "type": "integer"
          },
          {
           "name": "team_long_name",
           "type": "string"
          },
          {
           "name": "team_short_name",
           "type": "string"
          }
         ],
         "pandas_version": "1.4.0",
         "primaryKey": [
          "index"
         ]
        }
       },
       "total_rows": 5,
       "truncation_type": null
      },
      "text/html": [
       "<div>\n",
       "<style scoped>\n",
       "    .dataframe tbody tr th:only-of-type {\n",
       "        vertical-align: middle;\n",
       "    }\n",
       "\n",
       "    .dataframe tbody tr th {\n",
       "        vertical-align: top;\n",
       "    }\n",
       "\n",
       "    .dataframe thead th {\n",
       "        text-align: right;\n",
       "    }\n",
       "</style>\n",
       "<table border=\"1\" class=\"dataframe\">\n",
       "  <thead>\n",
       "    <tr style=\"text-align: right;\">\n",
       "      <th></th>\n",
       "      <th>id</th>\n",
       "      <th>team_api_id</th>\n",
       "      <th>team_long_name</th>\n",
       "      <th>team_short_name</th>\n",
       "    </tr>\n",
       "  </thead>\n",
       "  <tbody>\n",
       "    <tr>\n",
       "      <th>0</th>\n",
       "      <td>1</td>\n",
       "      <td>9987</td>\n",
       "      <td>KRC Genk</td>\n",
       "      <td>GEN</td>\n",
       "    </tr>\n",
       "    <tr>\n",
       "      <th>1</th>\n",
       "      <td>2</td>\n",
       "      <td>9993</td>\n",
       "      <td>Beerschot AC</td>\n",
       "      <td>BAC</td>\n",
       "    </tr>\n",
       "    <tr>\n",
       "      <th>2</th>\n",
       "      <td>3</td>\n",
       "      <td>10000</td>\n",
       "      <td>SV Zulte-Waregem</td>\n",
       "      <td>ZUL</td>\n",
       "    </tr>\n",
       "    <tr>\n",
       "      <th>3</th>\n",
       "      <td>4</td>\n",
       "      <td>9994</td>\n",
       "      <td>Sporting Lokeren</td>\n",
       "      <td>LOK</td>\n",
       "    </tr>\n",
       "    <tr>\n",
       "      <th>4</th>\n",
       "      <td>5</td>\n",
       "      <td>9984</td>\n",
       "      <td>KSV Cercle Brugge</td>\n",
       "      <td>CEB</td>\n",
       "    </tr>\n",
       "  </tbody>\n",
       "</table>\n",
       "</div>"
      ],
      "text/plain": [
       "   id  team_api_id     team_long_name team_short_name\n",
       "0   1         9987           KRC Genk             GEN\n",
       "1   2         9993       Beerschot AC             BAC\n",
       "2   3        10000   SV Zulte-Waregem             ZUL\n",
       "3   4         9994   Sporting Lokeren             LOK\n",
       "4   5         9984  KSV Cercle Brugge             CEB"
      ]
     },
     "execution_count": 9,
     "metadata": {},
     "output_type": "execute_result"
    }
   ],
   "source": [
    "SELECT *\n",
    "FROM soccer.team\n",
    "LIMIT 5;"
   ]
  },
  {
   "cell_type": "markdown",
   "id": "a181e77d-811d-4d62-b854-0dcf5da8dc06",
   "metadata": {},
   "source": [
    "**Country table:**"
   ]
  },
  {
   "cell_type": "code",
   "execution_count": 10,
   "id": "54c7954e-fb64-4f89-a377-8ddd09c7eade",
   "metadata": {
    "customType": "sql",
    "dataFrameVariableName": "df6",
    "executionCancelledAt": null,
    "executionTime": 1734,
    "jupyter": {
     "outputs_hidden": false,
     "source_hidden": true
    },
    "lastExecutedAt": 1692123132612,
    "lastScheduledRunId": null,
    "lastSuccessfullyExecutedCode": "SELECT *\nFROM soccer.country\nLIMIT 5;",
    "sqlCellMode": "dataFrame",
    "sqlSource": {
     "integrationId": "c632441c-e1dc-4637-a56d-10b85efd89be",
     "type": "integration"
    }
   },
   "outputs": [
    {
     "@datacamp/metadata": {
      "executedQuery": "SELECT *\nFROM soccer.country\nLIMIT 5;",
      "executedQueryParameters": []
     },
     "data": {
      "application/com.datacamp.data-table.v1+json": {
       "table": {
        "data": [
         {
          "id": 1,
          "index": 0,
          "name": "Belgium"
         },
         {
          "id": 1729,
          "index": 1,
          "name": "England"
         },
         {
          "id": 4769,
          "index": 2,
          "name": "France"
         },
         {
          "id": 7809,
          "index": 3,
          "name": "Germany"
         },
         {
          "id": 10257,
          "index": 4,
          "name": "Italy"
         }
        ],
        "schema": {
         "fields": [
          {
           "name": "index",
           "type": "integer"
          },
          {
           "name": "id",
           "type": "integer"
          },
          {
           "name": "name",
           "type": "string"
          }
         ],
         "pandas_version": "1.4.0",
         "primaryKey": [
          "index"
         ]
        }
       },
       "total_rows": 5,
       "truncation_type": null
      },
      "text/html": [
       "<div>\n",
       "<style scoped>\n",
       "    .dataframe tbody tr th:only-of-type {\n",
       "        vertical-align: middle;\n",
       "    }\n",
       "\n",
       "    .dataframe tbody tr th {\n",
       "        vertical-align: top;\n",
       "    }\n",
       "\n",
       "    .dataframe thead th {\n",
       "        text-align: right;\n",
       "    }\n",
       "</style>\n",
       "<table border=\"1\" class=\"dataframe\">\n",
       "  <thead>\n",
       "    <tr style=\"text-align: right;\">\n",
       "      <th></th>\n",
       "      <th>id</th>\n",
       "      <th>name</th>\n",
       "    </tr>\n",
       "  </thead>\n",
       "  <tbody>\n",
       "    <tr>\n",
       "      <th>0</th>\n",
       "      <td>1</td>\n",
       "      <td>Belgium</td>\n",
       "    </tr>\n",
       "    <tr>\n",
       "      <th>1</th>\n",
       "      <td>1729</td>\n",
       "      <td>England</td>\n",
       "    </tr>\n",
       "    <tr>\n",
       "      <th>2</th>\n",
       "      <td>4769</td>\n",
       "      <td>France</td>\n",
       "    </tr>\n",
       "    <tr>\n",
       "      <th>3</th>\n",
       "      <td>7809</td>\n",
       "      <td>Germany</td>\n",
       "    </tr>\n",
       "    <tr>\n",
       "      <th>4</th>\n",
       "      <td>10257</td>\n",
       "      <td>Italy</td>\n",
       "    </tr>\n",
       "  </tbody>\n",
       "</table>\n",
       "</div>"
      ],
      "text/plain": [
       "      id     name\n",
       "0      1  Belgium\n",
       "1   1729  England\n",
       "2   4769   France\n",
       "3   7809  Germany\n",
       "4  10257    Italy"
      ]
     },
     "execution_count": 10,
     "metadata": {},
     "output_type": "execute_result"
    }
   ],
   "source": [
    "SELECT *\n",
    "FROM soccer.country\n",
    "LIMIT 5;"
   ]
  },
  {
   "cell_type": "markdown",
   "id": "c970a3fd-5d97-4ade-baa2-cd0e27fe5415",
   "metadata": {},
   "source": [
    "**Example 1.7** \n",
    "\n",
    "Let's generate a list of matches won by Italy's Bologna team"
   ]
  },
  {
   "cell_type": "code",
   "execution_count": 12,
   "id": "d718f36e-e278-489d-a513-5a912fc4851c",
   "metadata": {
    "customType": "sql",
    "dataFrameVariableName": "query",
    "executionCancelledAt": null,
    "executionTime": 1791,
    "jupyter": {
     "outputs_hidden": false,
     "source_hidden": false
    },
    "lastExecutedAt": 1692123352980,
    "lastScheduledRunId": null,
    "lastSuccessfullyExecutedCode": "-- Select the season, date, home_goal, and away_goal columns\nSELECT \n\tseason,\n    date,\n\thome_goal,\n\taway_goal\nFROM soccer.match\nWHERE \n-- Exclude games not won by Bologna\n\tCASE \n\t\tWHEN hometeam_id = 9857 AND home_goal > away_goal \n\t\t\tTHEN 'Bologna Win'\n\t\tWHEN awayteam_id = 9857 AND away_goal > home_goal \n\t\t\tTHEN 'Bologna Win' \n\t\tEND IS NOT NULL\n\n\t-- IS NOT NULL: avoid output rows when this CASE condition is Null (when the team doesnt win)\n\t\t\nLIMIT 100;\n\t\t",
    "sqlCellMode": "query",
    "sqlSource": {
     "integrationId": "c632441c-e1dc-4637-a56d-10b85efd89be",
     "type": "integration"
    }
   },
   "outputs": [
    {
     "@datacamp/metadata": {
      "executedQuery": "WITH datacamp_workspace__user_query AS (\n  -- Select the season, date, home_goal, and away_goal columns\n  SELECT \n  \tseason,\n      date,\n  \thome_goal,\n  \taway_goal\n  FROM soccer.match\n  WHERE \n  -- Exclude games not won by Bologna\n  \tCASE \n  \t\tWHEN hometeam_id = 9857 AND home_goal > away_goal \n  \t\t\tTHEN 'Bologna Win'\n  \t\tWHEN awayteam_id = 9857 AND away_goal > home_goal \n  \t\t\tTHEN 'Bologna Win' \n  \t\tEND IS NOT NULL\n  \n  \t-- IS NOT NULL: avoid output rows when this CASE condition is Null (when the team doesnt win)\n  \t\t\n  LIMIT 100\n)\n\nSELECT * FROM datacamp_workspace__user_query LIMIT 100",
      "executedQueryParameters": []
     },
     "data": {
      "application/com.datacamp.data-table.v1+json": {
       "table": {
        "data": [
         {
          "away_goal": 1,
          "date": "2011-10-30T00:00:00.000Z",
          "home_goal": 3,
          "index": 0,
          "season": "2011/2012"
         },
         {
          "away_goal": 0,
          "date": "2011-12-04T00:00:00.000Z",
          "home_goal": 1,
          "index": 1,
          "season": "2011/2012"
         },
         {
          "away_goal": 0,
          "date": "2012-01-08T00:00:00.000Z",
          "home_goal": 2,
          "index": 2,
          "season": "2011/2012"
         },
         {
          "away_goal": 0,
          "date": "2012-02-21T00:00:00.000Z",
          "home_goal": 2,
          "index": 3,
          "season": "2011/2012"
         },
         {
          "away_goal": 3,
          "date": "2012-02-17T00:00:00.000Z",
          "home_goal": 0,
          "index": 4,
          "season": "2011/2012"
         },
         {
          "away_goal": 0,
          "date": "2012-04-12T00:00:00.000Z",
          "home_goal": 1,
          "index": 5,
          "season": "2011/2012"
         },
         {
          "away_goal": 2,
          "date": "2012-04-29T00:00:00.000Z",
          "home_goal": 3,
          "index": 6,
          "season": "2011/2012"
         },
         {
          "away_goal": 1,
          "date": "2012-05-02T00:00:00.000Z",
          "home_goal": 0,
          "index": 7,
          "season": "2011/2012"
         },
         {
          "away_goal": 0,
          "date": "2012-05-06T00:00:00.000Z",
          "home_goal": 2,
          "index": 8,
          "season": "2011/2012"
         },
         {
          "away_goal": 2,
          "date": "2011-10-16T00:00:00.000Z",
          "home_goal": 0,
          "index": 9,
          "season": "2011/2012"
         },
         {
          "away_goal": 1,
          "date": "2011-10-26T00:00:00.000Z",
          "home_goal": 0,
          "index": 10,
          "season": "2011/2012"
         },
         {
          "away_goal": 0,
          "date": "2012-11-18T00:00:00.000Z",
          "home_goal": 3,
          "index": 11,
          "season": "2012/2013"
         },
         {
          "away_goal": 1,
          "date": "2012-12-02T00:00:00.000Z",
          "home_goal": 2,
          "index": 12,
          "season": "2012/2013"
         },
         {
          "away_goal": 3,
          "date": "2012-12-16T00:00:00.000Z",
          "home_goal": 2,
          "index": 13,
          "season": "2012/2013"
         },
         {
          "away_goal": 0,
          "date": "2013-01-12T00:00:00.000Z",
          "home_goal": 4,
          "index": 14,
          "season": "2012/2013"
         },
         {
          "away_goal": 3,
          "date": "2013-02-03T00:00:00.000Z",
          "home_goal": 2,
          "index": 15,
          "season": "2012/2013"
         },
         {
          "away_goal": 1,
          "date": "2013-02-26T00:00:00.000Z",
          "home_goal": 2,
          "index": 16,
          "season": "2012/2013"
         },
         {
          "away_goal": 0,
          "date": "2013-03-03T00:00:00.000Z",
          "home_goal": 3,
          "index": 17,
          "season": "2012/2013"
         },
         {
          "away_goal": 1,
          "date": "2013-03-10T00:00:00.000Z",
          "home_goal": 0,
          "index": 18,
          "season": "2012/2013"
         },
         {
          "away_goal": 3,
          "date": "2012-09-16T00:00:00.000Z",
          "home_goal": 2,
          "index": 19,
          "season": "2012/2013"
         },
         {
          "away_goal": 2,
          "date": "2013-05-12T00:00:00.000Z",
          "home_goal": 0,
          "index": 20,
          "season": "2012/2013"
         },
         {
          "away_goal": 0,
          "date": "2012-09-30T00:00:00.000Z",
          "home_goal": 4,
          "index": 21,
          "season": "2012/2013"
         },
         {
          "away_goal": 3,
          "date": "2013-10-30T00:00:00.000Z",
          "home_goal": 0,
          "index": 22,
          "season": "2013/2014"
         },
         {
          "away_goal": 0,
          "date": "2013-12-22T00:00:00.000Z",
          "home_goal": 1,
          "index": 23,
          "season": "2013/2014"
         },
         {
          "away_goal": 2,
          "date": "2014-02-09T00:00:00.000Z",
          "home_goal": 1,
          "index": 24,
          "season": "2013/2014"
         },
         {
          "away_goal": 0,
          "date": "2014-03-23T00:00:00.000Z",
          "home_goal": 1,
          "index": 25,
          "season": "2013/2014"
         },
         {
          "away_goal": 0,
          "date": "2013-10-27T00:00:00.000Z",
          "home_goal": 1,
          "index": 26,
          "season": "2013/2014"
         }
        ],
        "schema": {
         "fields": [
          {
           "name": "index",
           "type": "integer"
          },
          {
           "name": "season",
           "type": "string"
          },
          {
           "name": "date",
           "type": "datetime",
           "tz": "UTC"
          },
          {
           "name": "home_goal",
           "type": "integer"
          },
          {
           "name": "away_goal",
           "type": "integer"
          }
         ],
         "pandas_version": "1.4.0",
         "primaryKey": [
          "index"
         ]
        }
       },
       "total_rows": 27,
       "truncation_type": null
      }
     },
     "execution_count": 12,
     "metadata": {
      "application/com.datacamp.data-table.v1+json": {
       "isPreview": true
      }
     },
     "output_type": "execute_result"
    }
   ],
   "source": [
    "-- Select the season, date, home_goal, and away_goal columns\n",
    "SELECT \n",
    "\tseason,\n",
    "    date,\n",
    "\thome_goal,\n",
    "\taway_goal\n",
    "FROM soccer.match\n",
    "WHERE \n",
    "-- Exclude games not won by Bologna\n",
    "\tCASE \n",
    "\t\tWHEN hometeam_id = 9857 AND home_goal > away_goal \n",
    "\t\t\tTHEN 'Bologna Win'\n",
    "\t\tWHEN awayteam_id = 9857 AND away_goal > home_goal \n",
    "\t\t\tTHEN 'Bologna Win' \n",
    "\t\tEND IS NOT NULL\n",
    "\n",
    "\t-- IS NOT NULL: avoid output rows when this CASE condition is Null (when the team doesnt win)\n",
    "\t\t\n",
    "LIMIT 100;\n",
    "\t\t"
   ]
  },
  {
   "cell_type": "markdown",
   "id": "f7cded13-9ae2-40f6-9994-f47a561cb2fe",
   "metadata": {},
   "source": [
    "### SELECT Subqueries:"
   ]
  },
  {
   "cell_type": "markdown",
   "id": "33a4441e-9d38-4e42-a649-7cc92b17998d",
   "metadata": {},
   "source": [
    "### FROM Subqueries:"
   ]
  },
  {
   "cell_type": "markdown",
   "id": "5d377af4-f9be-4cbb-84d6-164c2fe1dc8b",
   "metadata": {},
   "source": [
    "### Correlated Subqueries"
   ]
  },
  {
   "cell_type": "markdown",
   "id": "673f4551-40bb-484b-a553-6a4c6d613364",
   "metadata": {},
   "source": [
    "**Advantages of using subqueries:**\n",
    "\n",
    "1. Avoid the limit of joins: Subqueries can be used to break down complex queries into smaller, more manageable parts.\n",
    "\n",
    "2. Subqueries can be used to match specific conditions or values from one table to another, allowing for more flexible and targeted queries.\n",
    "\n",
    "3. Subqueries can simplify complex queries by allowing for step-by-step filtering and aggregation of data.\n",
    "\n",
    "4. Improve query performance: In some cases, subqueries can be more efficient than joins\n",
    "\n",
    "**Disadvantages:**\n",
    "High processing time because they are run multiple times"
   ]
  },
  {
   "cell_type": "markdown",
   "id": "796afab2-783d-476f-bde3-25aff8e19ae6",
   "metadata": {},
   "source": [
    "**Example 3.3** \n",
    "\n",
    "What was the highest scoring match for each `country`, in each `season`\n",
    "\n",
    "This code runs this many times: `countries` x `season` \n",
    "\n",
    "(18 seconds to run on datacamp)"
   ]
  },
  {
   "cell_type": "markdown",
   "id": "765f3c07-e602-4c09-9dbf-d0caf0382a43",
   "metadata": {},
   "source": [
    "// can compare run time with another way of writing. \n",
    "\n",
    "// i dont think this code outputs what we expected\n"
   ]
  },
  {
   "cell_type": "code",
   "execution_count": 13,
   "id": "a85b847e-1b01-47c9-9798-02a6e14c34e0",
   "metadata": {
    "customType": "sql",
    "dataFrameVariableName": "df1",
    "executionCancelledAt": null,
    "executionTime": 18079,
    "lastExecutedAt": 1692123386398,
    "lastScheduledRunId": null,
    "lastSuccessfullyExecutedCode": "SELECT \n\t-- Select country ID, date, home, and away goals from match\n\tmain.country_id,\n    main.date,\n    main.home_goal,\n    main.away_goal\nFROM soccer.match AS main\nWHERE \n\t-- Filter for matches with the highest number of goals scored\n\t(home_goal + away_goal) = \n        (SELECT MAX(sub.home_goal + sub.away_goal)\n         FROM soccer.match AS sub\n         WHERE main.country_id = sub.country_id\n               AND main.season = sub.season);",
    "sqlCellMode": "dataFrame",
    "sqlSource": {
     "integrationId": "c632441c-e1dc-4637-a56d-10b85efd89be",
     "type": "integration"
    }
   },
   "outputs": [
    {
     "@datacamp/metadata": {
      "executedQuery": "SELECT \n\t-- Select country ID, date, home, and away goals from match\n\tmain.country_id,\n    main.date,\n    main.home_goal,\n    main.away_goal\nFROM soccer.match AS main\nWHERE \n\t-- Filter for matches with the highest number of goals scored\n\t(home_goal + away_goal) = \n        (SELECT MAX(sub.home_goal + sub.away_goal)\n         FROM soccer.match AS sub\n         WHERE main.country_id = sub.country_id\n               AND main.season = sub.season);",
      "executedQueryParameters": []
     },
     "data": {
      "application/com.datacamp.data-table.v1+json": {
       "table": {
        "data": [
         {
          "away_goal": 5,
          "country_id": 1,
          "date": "2011-10-29T00:00:00.000Z",
          "home_goal": 4,
          "index": 0
         },
         {
          "away_goal": 6,
          "country_id": 1,
          "date": "2012-11-17T00:00:00.000Z",
          "home_goal": 2,
          "index": 1
         },
         {
          "away_goal": 7,
          "country_id": 1,
          "date": "2012-12-09T00:00:00.000Z",
          "home_goal": 1,
          "index": 2
         },
         {
          "away_goal": 6,
          "country_id": 1,
          "date": "2013-01-19T00:00:00.000Z",
          "home_goal": 2,
          "index": 3
         },
         {
          "away_goal": 6,
          "country_id": 1,
          "date": "2012-08-19T00:00:00.000Z",
          "home_goal": 2,
          "index": 4
         },
         {
          "away_goal": 4,
          "country_id": 1,
          "date": "2014-04-19T00:00:00.000Z",
          "home_goal": 2,
          "index": 5
         },
         {
          "away_goal": 2,
          "country_id": 1,
          "date": "2014-04-26T00:00:00.000Z",
          "home_goal": 4,
          "index": 6
         },
         {
          "away_goal": 7,
          "country_id": 1,
          "date": "2015-01-17T00:00:00.000Z",
          "home_goal": 1,
          "index": 7
         },
         {
          "away_goal": 5,
          "country_id": 1,
          "date": "2014-09-13T00:00:00.000Z",
          "home_goal": 3,
          "index": 8
         },
         {
          "away_goal": 2,
          "country_id": 1729,
          "date": "2011-08-28T00:00:00.000Z",
          "home_goal": 8,
          "index": 9
         },
         {
          "away_goal": 3,
          "country_id": 1729,
          "date": "2012-12-29T00:00:00.000Z",
          "home_goal": 7,
          "index": 10
         },
         {
          "away_goal": 5,
          "country_id": 1729,
          "date": "2013-05-19T00:00:00.000Z",
          "home_goal": 5,
          "index": 11
         },
         {
          "away_goal": 3,
          "country_id": 1729,
          "date": "2013-12-14T00:00:00.000Z",
          "home_goal": 6,
          "index": 12
         },
         {
          "away_goal": 6,
          "country_id": 1729,
          "date": "2014-03-22T00:00:00.000Z",
          "home_goal": 3,
          "index": 13
         },
         {
          "away_goal": 6,
          "country_id": 1729,
          "date": "2014-08-30T00:00:00.000Z",
          "home_goal": 3,
          "index": 14
         },
         {
          "away_goal": 5,
          "country_id": 4769,
          "date": "2012-02-12T00:00:00.000Z",
          "home_goal": 4,
          "index": 15
         },
         {
          "away_goal": 4,
          "country_id": 4769,
          "date": "2012-10-28T00:00:00.000Z",
          "home_goal": 4,
          "index": 16
         },
         {
          "away_goal": 6,
          "country_id": 4769,
          "date": "2014-04-20T00:00:00.000Z",
          "home_goal": 2,
          "index": 17
         },
         {
          "away_goal": 4,
          "country_id": 4769,
          "date": "2014-04-20T00:00:00.000Z",
          "home_goal": 4,
          "index": 18
         },
         {
          "away_goal": 7,
          "country_id": 4769,
          "date": "2014-10-26T00:00:00.000Z",
          "home_goal": 2,
          "index": 19
         },
         {
          "away_goal": 1,
          "country_id": 7809,
          "date": "2012-03-10T00:00:00.000Z",
          "home_goal": 7,
          "index": 20
         },
         {
          "away_goal": 4,
          "country_id": 7809,
          "date": "2012-03-30T00:00:00.000Z",
          "home_goal": 4,
          "index": 21
         },
         {
          "away_goal": 3,
          "country_id": 7809,
          "date": "2011-08-20T00:00:00.000Z",
          "home_goal": 5,
          "index": 22
         },
         {
          "away_goal": 2,
          "country_id": 7809,
          "date": "2013-03-30T00:00:00.000Z",
          "home_goal": 9,
          "index": 23
         },
         {
          "away_goal": 3,
          "country_id": 7809,
          "date": "2013-11-09T00:00:00.000Z",
          "home_goal": 5,
          "index": 24
         },
         {
          "away_goal": 4,
          "country_id": 7809,
          "date": "2013-11-30T00:00:00.000Z",
          "home_goal": 4,
          "index": 25
         },
         {
          "away_goal": 2,
          "country_id": 7809,
          "date": "2014-03-02T00:00:00.000Z",
          "home_goal": 6,
          "index": 26
         },
         {
          "away_goal": 2,
          "country_id": 7809,
          "date": "2013-09-01T00:00:00.000Z",
          "home_goal": 6,
          "index": 27
         },
         {
          "away_goal": 2,
          "country_id": 7809,
          "date": "2013-09-14T00:00:00.000Z",
          "home_goal": 6,
          "index": 28
         },
         {
          "away_goal": 5,
          "country_id": 7809,
          "date": "2015-02-14T00:00:00.000Z",
          "home_goal": 4,
          "index": 29
         },
         {
          "away_goal": 5,
          "country_id": 7809,
          "date": "2014-10-25T00:00:00.000Z",
          "home_goal": 4,
          "index": 30
         },
         {
          "away_goal": 3,
          "country_id": 10257,
          "date": "2012-03-09T00:00:00.000Z",
          "home_goal": 6,
          "index": 31
         },
         {
          "away_goal": 4,
          "country_id": 10257,
          "date": "2012-04-01T00:00:00.000Z",
          "home_goal": 5,
          "index": 32
         },
         {
          "away_goal": 5,
          "country_id": 10257,
          "date": "2013-03-30T00:00:00.000Z",
          "home_goal": 3,
          "index": 33
         },
         {
          "away_goal": 5,
          "country_id": 10257,
          "date": "2014-04-13T00:00:00.000Z",
          "home_goal": 3,
          "index": 34
         },
         {
          "away_goal": 3,
          "country_id": 10257,
          "date": "2014-05-04T00:00:00.000Z",
          "home_goal": 5,
          "index": 35
         },
         {
          "away_goal": 5,
          "country_id": 10257,
          "date": "2014-09-14T00:00:00.000Z",
          "home_goal": 4,
          "index": 36
         },
         {
          "away_goal": 4,
          "country_id": 13274,
          "date": "2011-11-06T00:00:00.000Z",
          "home_goal": 6,
          "index": 37
         },
         {
          "away_goal": 3,
          "country_id": 13274,
          "date": "2012-10-28T00:00:00.000Z",
          "home_goal": 6,
          "index": 38
         },
         {
          "away_goal": 6,
          "country_id": 13274,
          "date": "2013-12-07T00:00:00.000Z",
          "home_goal": 2,
          "index": 39
         },
         {
          "away_goal": 5,
          "country_id": 13274,
          "date": "2015-05-17T00:00:00.000Z",
          "home_goal": 4,
          "index": 40
         },
         {
          "away_goal": 5,
          "country_id": 15722,
          "date": "2011-11-06T00:00:00.000Z",
          "home_goal": 1,
          "index": 41
         },
         {
          "away_goal": 0,
          "country_id": 15722,
          "date": "2011-08-06T00:00:00.000Z",
          "home_goal": 6,
          "index": 42
         },
         {
          "away_goal": 2,
          "country_id": 15722,
          "date": "2011-09-25T00:00:00.000Z",
          "home_goal": 4,
          "index": 43
         },
         {
          "away_goal": 4,
          "country_id": 15722,
          "date": "2013-05-12T00:00:00.000Z",
          "home_goal": 4,
          "index": 44
         },
         {
          "away_goal": 5,
          "country_id": 15722,
          "date": "2013-09-14T00:00:00.000Z",
          "home_goal": 3,
          "index": 45
         },
         {
          "away_goal": 2,
          "country_id": 15722,
          "date": "2014-09-20T00:00:00.000Z",
          "home_goal": 6,
          "index": 46
         },
         {
          "away_goal": 4,
          "country_id": 17642,
          "date": "2012-03-11T00:00:00.000Z",
          "home_goal": 4,
          "index": 47
         },
         {
          "away_goal": 5,
          "country_id": 17642,
          "date": "2012-11-25T00:00:00.000Z",
          "home_goal": 3,
          "index": 48
         },
         {
          "away_goal": 4,
          "country_id": 17642,
          "date": "2012-10-07T00:00:00.000Z",
          "home_goal": 4,
          "index": 49
         },
         {
          "away_goal": 4,
          "country_id": 17642,
          "date": "2013-09-28T00:00:00.000Z",
          "home_goal": 3,
          "index": 50
         },
         {
          "away_goal": 6,
          "country_id": 17642,
          "date": "2014-11-29T00:00:00.000Z",
          "home_goal": 1,
          "index": 51
         },
         {
          "away_goal": 4,
          "country_id": 17642,
          "date": "2015-02-15T00:00:00.000Z",
          "home_goal": 3,
          "index": 52
         },
         {
          "away_goal": 6,
          "country_id": 19694,
          "date": "2011-11-05T00:00:00.000Z",
          "home_goal": 3,
          "index": 53
         },
         {
          "away_goal": 4,
          "country_id": 19694,
          "date": "2012-09-29T00:00:00.000Z",
          "home_goal": 5,
          "index": 54
         },
         {
          "away_goal": 3,
          "country_id": 19694,
          "date": "2013-10-19T00:00:00.000Z",
          "home_goal": 4,
          "index": 55
         },
         {
          "away_goal": 4,
          "country_id": 19694,
          "date": "2013-12-21T00:00:00.000Z",
          "home_goal": 3,
          "index": 56
         },
         {
          "away_goal": 3,
          "country_id": 19694,
          "date": "2014-02-15T00:00:00.000Z",
          "home_goal": 4,
          "index": 57
         },
         {
          "away_goal": 2,
          "country_id": 19694,
          "date": "2014-05-03T00:00:00.000Z",
          "home_goal": 5,
          "index": 58
         },
         {
          "away_goal": 5,
          "country_id": 19694,
          "date": "2013-09-28T00:00:00.000Z",
          "home_goal": 2,
          "index": 59
         },
         {
          "away_goal": 2,
          "country_id": 19694,
          "date": "2015-01-01T00:00:00.000Z",
          "home_goal": 6,
          "index": 60
         },
         {
          "away_goal": 1,
          "country_id": 21518,
          "date": "2011-11-06T00:00:00.000Z",
          "home_goal": 7,
          "index": 61
         },
         {
          "away_goal": 6,
          "country_id": 21518,
          "date": "2011-12-17T00:00:00.000Z",
          "home_goal": 2,
          "index": 62
         },
         {
          "away_goal": 5,
          "country_id": 21518,
          "date": "2012-02-19T00:00:00.000Z",
          "home_goal": 3,
          "index": 63
         },
         {
          "away_goal": 3,
          "country_id": 21518,
          "date": "2012-03-20T00:00:00.000Z",
          "home_goal": 5,
          "index": 64
         },
         {
          "away_goal": 0,
          "country_id": 21518,
          "date": "2011-09-17T00:00:00.000Z",
          "home_goal": 8,
          "index": 65
         },
         {
          "away_goal": 2,
          "country_id": 21518,
          "date": "2011-09-24T00:00:00.000Z",
          "home_goal": 6,
          "index": 66
         },
         {
          "away_goal": 5,
          "country_id": 21518,
          "date": "2012-10-20T00:00:00.000Z",
          "home_goal": 4,
          "index": 67
         },
         {
          "away_goal": 3,
          "country_id": 21518,
          "date": "2013-10-30T00:00:00.000Z",
          "home_goal": 7,
          "index": 68
         },
         {
          "away_goal": 1,
          "country_id": 21518,
          "date": "2015-04-05T00:00:00.000Z",
          "home_goal": 9,
          "index": 69
         },
         {
          "away_goal": 3,
          "country_id": 21518,
          "date": "2015-05-23T00:00:00.000Z",
          "home_goal": 7,
          "index": 70
         },
         {
          "away_goal": 8,
          "country_id": 21518,
          "date": "2014-09-20T00:00:00.000Z",
          "home_goal": 2,
          "index": 71
         },
         {
          "away_goal": 3,
          "country_id": 24558,
          "date": "2012-05-12T00:00:00.000Z",
          "home_goal": 6,
          "index": 72
         },
         {
          "away_goal": 2,
          "country_id": 24558,
          "date": "2012-09-30T00:00:00.000Z",
          "home_goal": 6,
          "index": 73
         },
         {
          "away_goal": 3,
          "country_id": 24558,
          "date": "2014-02-16T00:00:00.000Z",
          "home_goal": 5,
          "index": 74
         },
         {
          "away_goal": 2,
          "country_id": 24558,
          "date": "2015-04-30T00:00:00.000Z",
          "home_goal": 6,
          "index": 75
         },
         {
          "away_goal": 6,
          "country_id": 24558,
          "date": "2015-05-03T00:00:00.000Z",
          "home_goal": 2,
          "index": 76
         },
         {
          "away_goal": 2,
          "country_id": 24558,
          "date": "2015-05-25T00:00:00.000Z",
          "home_goal": 6,
          "index": 77
         }
        ],
        "schema": {
         "fields": [
          {
           "name": "index",
           "type": "integer"
          },
          {
           "name": "country_id",
           "type": "integer"
          },
          {
           "name": "date",
           "type": "datetime",
           "tz": "UTC"
          },
          {
           "name": "home_goal",
           "type": "integer"
          },
          {
           "name": "away_goal",
           "type": "integer"
          }
         ],
         "pandas_version": "1.4.0",
         "primaryKey": [
          "index"
         ]
        }
       },
       "total_rows": 78,
       "truncation_type": null
      },
      "text/html": [
       "<div>\n",
       "<style scoped>\n",
       "    .dataframe tbody tr th:only-of-type {\n",
       "        vertical-align: middle;\n",
       "    }\n",
       "\n",
       "    .dataframe tbody tr th {\n",
       "        vertical-align: top;\n",
       "    }\n",
       "\n",
       "    .dataframe thead th {\n",
       "        text-align: right;\n",
       "    }\n",
       "</style>\n",
       "<table border=\"1\" class=\"dataframe\">\n",
       "  <thead>\n",
       "    <tr style=\"text-align: right;\">\n",
       "      <th></th>\n",
       "      <th>country_id</th>\n",
       "      <th>date</th>\n",
       "      <th>home_goal</th>\n",
       "      <th>away_goal</th>\n",
       "    </tr>\n",
       "  </thead>\n",
       "  <tbody>\n",
       "    <tr>\n",
       "      <th>0</th>\n",
       "      <td>1</td>\n",
       "      <td>2011-10-29 00:00:00+00:00</td>\n",
       "      <td>4</td>\n",
       "      <td>5</td>\n",
       "    </tr>\n",
       "    <tr>\n",
       "      <th>1</th>\n",
       "      <td>1</td>\n",
       "      <td>2012-11-17 00:00:00+00:00</td>\n",
       "      <td>2</td>\n",
       "      <td>6</td>\n",
       "    </tr>\n",
       "    <tr>\n",
       "      <th>2</th>\n",
       "      <td>1</td>\n",
       "      <td>2012-12-09 00:00:00+00:00</td>\n",
       "      <td>1</td>\n",
       "      <td>7</td>\n",
       "    </tr>\n",
       "    <tr>\n",
       "      <th>3</th>\n",
       "      <td>1</td>\n",
       "      <td>2013-01-19 00:00:00+00:00</td>\n",
       "      <td>2</td>\n",
       "      <td>6</td>\n",
       "    </tr>\n",
       "    <tr>\n",
       "      <th>4</th>\n",
       "      <td>1</td>\n",
       "      <td>2012-08-19 00:00:00+00:00</td>\n",
       "      <td>2</td>\n",
       "      <td>6</td>\n",
       "    </tr>\n",
       "    <tr>\n",
       "      <th>...</th>\n",
       "      <td>...</td>\n",
       "      <td>...</td>\n",
       "      <td>...</td>\n",
       "      <td>...</td>\n",
       "    </tr>\n",
       "    <tr>\n",
       "      <th>73</th>\n",
       "      <td>24558</td>\n",
       "      <td>2012-09-30 00:00:00+00:00</td>\n",
       "      <td>6</td>\n",
       "      <td>2</td>\n",
       "    </tr>\n",
       "    <tr>\n",
       "      <th>74</th>\n",
       "      <td>24558</td>\n",
       "      <td>2014-02-16 00:00:00+00:00</td>\n",
       "      <td>5</td>\n",
       "      <td>3</td>\n",
       "    </tr>\n",
       "    <tr>\n",
       "      <th>75</th>\n",
       "      <td>24558</td>\n",
       "      <td>2015-04-30 00:00:00+00:00</td>\n",
       "      <td>6</td>\n",
       "      <td>2</td>\n",
       "    </tr>\n",
       "    <tr>\n",
       "      <th>76</th>\n",
       "      <td>24558</td>\n",
       "      <td>2015-05-03 00:00:00+00:00</td>\n",
       "      <td>2</td>\n",
       "      <td>6</td>\n",
       "    </tr>\n",
       "    <tr>\n",
       "      <th>77</th>\n",
       "      <td>24558</td>\n",
       "      <td>2015-05-25 00:00:00+00:00</td>\n",
       "      <td>6</td>\n",
       "      <td>2</td>\n",
       "    </tr>\n",
       "  </tbody>\n",
       "</table>\n",
       "<p>78 rows × 4 columns</p>\n",
       "</div>"
      ],
      "text/plain": [
       "    country_id                      date  home_goal  away_goal\n",
       "0            1 2011-10-29 00:00:00+00:00          4          5\n",
       "1            1 2012-11-17 00:00:00+00:00          2          6\n",
       "2            1 2012-12-09 00:00:00+00:00          1          7\n",
       "3            1 2013-01-19 00:00:00+00:00          2          6\n",
       "4            1 2012-08-19 00:00:00+00:00          2          6\n",
       "..         ...                       ...        ...        ...\n",
       "73       24558 2012-09-30 00:00:00+00:00          6          2\n",
       "74       24558 2014-02-16 00:00:00+00:00          5          3\n",
       "75       24558 2015-04-30 00:00:00+00:00          6          2\n",
       "76       24558 2015-05-03 00:00:00+00:00          2          6\n",
       "77       24558 2015-05-25 00:00:00+00:00          6          2\n",
       "\n",
       "[78 rows x 4 columns]"
      ]
     },
     "execution_count": 13,
     "metadata": {},
     "output_type": "execute_result"
    }
   ],
   "source": [
    "SELECT \n",
    "\t-- Select country ID, date, home, and away goals from match\n",
    "\tmain.country_id,\n",
    "    main.date,\n",
    "    main.home_goal,\n",
    "    main.away_goal\n",
    "FROM soccer.match AS main\n",
    "WHERE \n",
    "\t-- Filter for matches with the highest number of goals scored\n",
    "\t(home_goal + away_goal) = \n",
    "        (SELECT MAX(sub.home_goal + sub.away_goal)\n",
    "         FROM soccer.match AS sub\n",
    "         WHERE main.country_id = sub.country_id\n",
    "               AND main.season = sub.season);\n"
   ]
  },
  {
   "cell_type": "markdown",
   "id": "f4091934-3788-40d2-85ec-2e4a08fc8937",
   "metadata": {},
   "source": [
    "## Common Table Expressions (CTE)\n",
    "\n",
    "- Can reference previous CTE in latter ones and in the main query\n",
    "- Improves organization of code\n",
    "- Improves query performance (run once and stored in memory)\n"
   ]
  },
  {
   "cell_type": "markdown",
   "id": "2ad0c7a5-6201-4c88-a47b-e0ec9dc59a8a",
   "metadata": {},
   "source": [
    "**Before CTE:**"
   ]
  },
  {
   "cell_type": "code",
   "execution_count": null,
   "id": "eb65b3a5-d939-4c19-acb0-1b297a53fb9e",
   "metadata": {
    "customType": "sql",
    "dataFrameVariableName": "df4",
    "sqlCellMode": "dataFrame",
    "sqlSource": {
     "integrationId": "c632441c-e1dc-4637-a56d-10b85efd89be",
     "type": "integration"
    }
   },
   "outputs": [],
   "source": []
  },
  {
   "cell_type": "markdown",
   "id": "2013510a-eeb3-42fa-89b6-d6170cb219a1",
   "metadata": {},
   "source": [
    "**With CTE:**"
   ]
  },
  {
   "cell_type": "code",
   "execution_count": null,
   "id": "6e35354a-a139-4c7d-9308-6fde43c1cc88",
   "metadata": {
    "customType": "sql",
    "dataFrameVariableName": "df3",
    "sqlCellMode": "dataFrame",
    "sqlSource": {
     "integrationId": "c632441c-e1dc-4637-a56d-10b85efd89be",
     "type": "integration"
    }
   },
   "outputs": [],
   "source": [
    "-- Set up your CTE\n",
    "WITH match_list AS (\n",
    "  -- Select the league, date, home, and away goals\n",
    "    SELECT \n",
    "  \t\tl.name AS league, \n",
    "     \tm.date, \n",
    "  \t\tm.home_goal, \n",
    "  \t\tm.away_goal,\n",
    "       (m.home_goal + m.away_goal) AS total_goals\n",
    "    FROM match AS m\n",
    "    LEFT JOIN league as l ON m.country_id = l.id)\n",
    "-- Select the league, date, home, and away goals from the CTE\n",
    "SELECT league, date, home_goal, away_goal\n",
    "FROM match_list\n",
    "-- Filter by total goals\n",
    "WHERE total_goals >= 10;"
   ]
  },
  {
   "cell_type": "markdown",
   "id": "0bd35286-78b4-4e97-a74a-6cd9ed61da84",
   "metadata": {},
   "source": [
    "## Explore Datasets\n",
    "Use the `match`, `league`, and `country` tables to explore the data and practice your skills!\n",
    "- Use the `match`, `league`, and `country` tables to return the number of matches played in Great Britain versus elsewhere in the world.\n",
    "    - \"England\", \"Scotland\", and \"Wales\" should be categorized as \"Great Britain\"\n",
    "    - All other leagues will need to be categorized as \"World\".\n",
    "- Use the `match` and `country` tables to return the countries in which the average number of goals (home and away goals) scored are greater than the average number of goals of all matches.\n",
    "- In a soccer league, points are assigned to teams based on the result of a game. Here, let's assume that 3 points are awarded for a win, 1 for a tie, and 0 for a defeat. Use the `match` table to calculate the running total of points earned by the team \"Chelsea\" (team id 8455) in the season \"2014/2015\".\n",
    "    - The final output should have the match date, the points earned by Chelsea, and the running total."
   ]
  }
 ],
 "metadata": {
  "editor": "DataCamp Workspace",
  "kernelspec": {
   "display_name": "Python 3 (ipykernel)",
   "language": "python",
   "name": "python3"
  },
  "language_info": {
   "codemirror_mode": {
    "name": "ipython",
    "version": 3
   },
   "file_extension": ".py",
   "mimetype": "text/x-python",
   "name": "python",
   "nbconvert_exporter": "python",
   "pygments_lexer": "ipython3",
   "version": "3.11.0"
  }
 },
 "nbformat": 4,
 "nbformat_minor": 5
}
